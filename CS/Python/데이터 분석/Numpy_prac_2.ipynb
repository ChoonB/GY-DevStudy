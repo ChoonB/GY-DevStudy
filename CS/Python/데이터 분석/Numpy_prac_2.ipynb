{
 "cells": [
  {
   "cell_type": "markdown",
   "id": "ebe0acbe",
   "metadata": {},
   "source": [
    "# Numpy 2"
   ]
  },
  {
   "cell_type": "markdown",
   "id": "db247d27",
   "metadata": {},
   "source": [
    "## Creation Function"
   ]
  },
  {
   "cell_type": "code",
   "execution_count": 1,
   "id": "b8107e37",
   "metadata": {},
   "outputs": [
    {
     "data": {
      "text/plain": [
       "array([[0. , 0.5],\n",
       "       [1. , 1.5],\n",
       "       [2. , 2.5],\n",
       "       [3. , 3.5],\n",
       "       [4. , 4.5],\n",
       "       [5. , 5.5],\n",
       "       [6. , 6.5],\n",
       "       [7. , 7.5],\n",
       "       [8. , 8.5],\n",
       "       [9. , 9.5]])"
      ]
     },
     "execution_count": 1,
     "metadata": {},
     "output_type": "execute_result"
    }
   ],
   "source": [
    "import numpy as np\n",
    "\n",
    "c = np.arange(0, 10, 0.5)\n",
    "c.reshape(-1,2)"
   ]
  },
  {
   "cell_type": "code",
   "execution_count": 2,
   "id": "81c3b5a7",
   "metadata": {},
   "outputs": [
    {
     "data": {
      "text/plain": [
       "array([0, 0, 0, 0, 0, 0, 0, 0, 0, 0])"
      ]
     },
     "execution_count": 2,
     "metadata": {},
     "output_type": "execute_result"
    }
   ],
   "source": [
    "np.zeros((10,), int)"
   ]
  },
  {
   "cell_type": "code",
   "execution_count": 3,
   "id": "bc70f2b9",
   "metadata": {},
   "outputs": [
    {
     "data": {
      "text/plain": [
       "array([[1., 0., 0.],\n",
       "       [0., 1., 0.],\n",
       "       [0., 0., 1.]])"
      ]
     },
     "execution_count": 3,
     "metadata": {},
     "output_type": "execute_result"
    }
   ],
   "source": [
    "np.identity(3)"
   ]
  },
  {
   "cell_type": "code",
   "execution_count": 4,
   "id": "6735dac9",
   "metadata": {},
   "outputs": [
    {
     "data": {
      "text/plain": [
       "array([0, 4, 8])"
      ]
     },
     "execution_count": 4,
     "metadata": {},
     "output_type": "execute_result"
    }
   ],
   "source": [
    "d = np.arange(9).reshape(3,3)\n",
    "np.diag(d)"
   ]
  },
  {
   "cell_type": "code",
   "execution_count": 5,
   "id": "d419366d",
   "metadata": {},
   "outputs": [
    {
     "data": {
      "text/plain": [
       "array([1, 5])"
      ]
     },
     "execution_count": 5,
     "metadata": {},
     "output_type": "execute_result"
    }
   ],
   "source": [
    "np.diag(d, 1)"
   ]
  },
  {
   "cell_type": "code",
   "execution_count": 6,
   "id": "55c93d8c",
   "metadata": {},
   "outputs": [
    {
     "name": "stdout",
     "output_type": "stream",
     "text": [
      "[[0.54151363 0.86155509 0.50367997 0.25218648 0.29685158]\n",
      " [0.37885724 0.28652533 0.72662814 0.4990081  0.93611117]]\n",
      "[[ 0.67640856  0.30861696  0.42849747 -0.34867231 -0.23560679]\n",
      " [ 0.68093003  0.52410523 -0.65337312 -0.13314533  1.06316397]]\n"
     ]
    }
   ],
   "source": [
    "uniform = np.random.uniform(0,1,10).reshape(2,5)\n",
    "normal = np.random.normal(0,1,10).reshape(2,5)\n",
    "print(uniform)\n",
    "print(normal)"
   ]
  },
  {
   "cell_type": "code",
   "execution_count": 7,
   "id": "65a73a2b",
   "metadata": {},
   "outputs": [
    {
     "name": "stdout",
     "output_type": "stream",
     "text": [
      "[[ 1  2  3  4  5]\n",
      " [ 6  7  8  9 10]]\n",
      "[15 40]\n",
      "[ 7  9 11 13 15]\n"
     ]
    }
   ],
   "source": [
    "e = np.arange(1,11).reshape(2,-1)\n",
    "print(e)\n",
    "print(e.sum(axis=1))\n",
    "print(e.sum(axis=0))"
   ]
  },
  {
   "cell_type": "code",
   "execution_count": 8,
   "id": "1c946a17",
   "metadata": {},
   "outputs": [
    {
     "data": {
      "text/plain": [
       "array([1, 2, 3, 5, 6, 7])"
      ]
     },
     "execution_count": 8,
     "metadata": {},
     "output_type": "execute_result"
    }
   ],
   "source": [
    "a = np.array([1,2,3])\n",
    "b = np.array([5,6,7])\n",
    "np.concatenate((a,b),axis=0)"
   ]
  },
  {
   "cell_type": "code",
   "execution_count": 9,
   "id": "56cb1bd3",
   "metadata": {},
   "outputs": [
    {
     "data": {
      "text/plain": [
       "array([[1, 2, 5],\n",
       "       [3, 4, 6]])"
      ]
     },
     "execution_count": 9,
     "metadata": {},
     "output_type": "execute_result"
    }
   ],
   "source": [
    "a = np.array([[1,2], [3,4]])\n",
    "b = np.array([5,6])\n",
    "b = b[np.newaxis, :] # b는 axis가 하나이므로 a와 합치기 위해 axis를 하나 더 추가한다\n",
    "np.concatenate((a,b.T), axis=1)"
   ]
  },
  {
   "cell_type": "code",
   "execution_count": 10,
   "id": "a80e88e1",
   "metadata": {},
   "outputs": [
    {
     "name": "stdout",
     "output_type": "stream",
     "text": [
      "[[0 1 2 3 4]\n",
      " [5 6 7 8 9]]\n",
      "[[10 11 12 13 14]\n",
      " [15 16 17 18 19]]\n",
      "[[10 12 14 16 18]\n",
      " [20 22 24 26 28]]\n",
      "[[-10 -10 -10 -10 -10]\n",
      " [-10 -10 -10 -10 -10]]\n",
      "[[  0  11  24  39  56]\n",
      " [ 75  96 119 144 171]]\n",
      "[[0.         0.09090909 0.16666667 0.23076923 0.28571429]\n",
      " [0.33333333 0.375      0.41176471 0.44444444 0.47368421]]\n"
     ]
    }
   ],
   "source": [
    "a = np.arange(10).reshape(2,-1)\n",
    "b = np.arange(10, 20).reshape(2,-1)\n",
    "print(a)\n",
    "print(b)\n",
    "print(a+b)\n",
    "print(a-b)\n",
    "print(a*b)\n",
    "print(a/b)"
   ]
  },
  {
   "cell_type": "code",
   "execution_count": 11,
   "id": "3f331b4d",
   "metadata": {},
   "outputs": [
    {
     "data": {
      "text/plain": [
       "array([[ 58,  64],\n",
       "       [139, 154]])"
      ]
     },
     "execution_count": 11,
     "metadata": {},
     "output_type": "execute_result"
    }
   ],
   "source": [
    "a = np.arange(1,7).reshape(2,3)\n",
    "b = np.arange(7,13).reshape(3,2)\n",
    "a.dot(b)"
   ]
  },
  {
   "cell_type": "code",
   "execution_count": 12,
   "id": "bf0209be",
   "metadata": {},
   "outputs": [
    {
     "name": "stdout",
     "output_type": "stream",
     "text": [
      "[[1 2 3]\n",
      " [4 5 6]]\n",
      "[[1 4]\n",
      " [2 5]\n",
      " [3 6]]\n",
      "[[1 4]\n",
      " [2 5]\n",
      " [3 6]]\n"
     ]
    }
   ],
   "source": [
    "a = np.arange(1,7).reshape(2,3)\n",
    "print(a)\n",
    "print(a.T)\n",
    "print(a.transpose())"
   ]
  },
  {
   "cell_type": "code",
   "execution_count": 13,
   "id": "e62e5519",
   "metadata": {},
   "outputs": [
    {
     "name": "stdout",
     "output_type": "stream",
     "text": [
      "[[4. 5. 6.]\n",
      " [7. 8. 9.]]\n",
      "[[-2. -1.  0.]\n",
      " [ 1.  2.  3.]]\n",
      "[[ 3.  6.  9.]\n",
      " [12. 15. 18.]]\n",
      "[[0.33333333 0.66666667 1.        ]\n",
      " [1.33333333 1.66666667 2.        ]]\n",
      "[[ 4.  9. 14.]\n",
      " [19. 24. 29.]]\n",
      "[[ 1.  4.  9.]\n",
      " [16. 25. 36.]]\n"
     ]
    }
   ],
   "source": [
    "test_matrix = np.array([[1,2,3],[4,5,6]], float)\n",
    "scalar = 3\n",
    "# broadcasting\n",
    "print(test_matrix + scalar) \n",
    "print(test_matrix - scalar)\n",
    "print(test_matrix * scalar)\n",
    "print(test_matrix / scalar)\n",
    "print(test_matrix // 0.2) # 정수 나눗셈. 소수점 나머지 버리고 정수부분만 반환한다.\n",
    "print(test_matrix ** 2) # 제곱"
   ]
  },
  {
   "cell_type": "code",
   "execution_count": null,
   "id": "d56b3140",
   "metadata": {},
   "outputs": [],
   "source": []
  }
 ],
 "metadata": {
  "kernelspec": {
   "display_name": "Python 3 (ipykernel)",
   "language": "python",
   "name": "python3"
  },
  "language_info": {
   "codemirror_mode": {
    "name": "ipython",
    "version": 3
   },
   "file_extension": ".py",
   "mimetype": "text/x-python",
   "name": "python",
   "nbconvert_exporter": "python",
   "pygments_lexer": "ipython3",
   "version": "3.11.7"
  }
 },
 "nbformat": 4,
 "nbformat_minor": 5
}
