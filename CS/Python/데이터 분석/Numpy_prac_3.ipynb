{
 "cells": [
  {
   "cell_type": "markdown",
   "id": "54570f04",
   "metadata": {},
   "source": [
    "# Numpy\n",
    "\n",
    "## Comparisons"
   ]
  },
  {
   "cell_type": "code",
   "execution_count": 1,
   "id": "8f9a7c0e",
   "metadata": {},
   "outputs": [
    {
     "data": {
      "text/plain": [
       "array([ True,  True,  True,  True, False, False, False, False, False,\n",
       "       False])"
      ]
     },
     "execution_count": 1,
     "metadata": {},
     "output_type": "execute_result"
    }
   ],
   "source": [
    "import numpy as np\n",
    "\n",
    "a = np.arange(10)\n",
    "a < 4"
   ]
  },
  {
   "cell_type": "code",
   "execution_count": 2,
   "id": "390afcc5",
   "metadata": {},
   "outputs": [
    {
     "data": {
      "text/plain": [
       "True"
      ]
     },
     "execution_count": 2,
     "metadata": {},
     "output_type": "execute_result"
    }
   ],
   "source": [
    "np.any(a<4)"
   ]
  },
  {
   "cell_type": "code",
   "execution_count": 3,
   "id": "a9822965",
   "metadata": {},
   "outputs": [
    {
     "data": {
      "text/plain": [
       "False"
      ]
     },
     "execution_count": 3,
     "metadata": {},
     "output_type": "execute_result"
    }
   ],
   "source": [
    "np.all(a<5)"
   ]
  },
  {
   "cell_type": "code",
   "execution_count": 4,
   "id": "07a3c951",
   "metadata": {},
   "outputs": [
    {
     "data": {
      "text/plain": [
       "array([-1, -1, -1,  1,  1])"
      ]
     },
     "execution_count": 4,
     "metadata": {},
     "output_type": "execute_result"
    }
   ],
   "source": [
    "a = np.arange(5)\n",
    "np.where(a>2, 1, -1)"
   ]
  },
  {
   "cell_type": "code",
   "execution_count": 5,
   "id": "75283878",
   "metadata": {},
   "outputs": [
    {
     "data": {
      "text/plain": [
       "(array([3, 4], dtype=int64),)"
      ]
     },
     "execution_count": 5,
     "metadata": {},
     "output_type": "execute_result"
    }
   ],
   "source": [
    "np.where(a>2)"
   ]
  },
  {
   "cell_type": "markdown",
   "id": "51e3165b",
   "metadata": {},
   "source": [
    "### boolean index"
   ]
  },
  {
   "cell_type": "code",
   "execution_count": 6,
   "id": "1ffeebe5",
   "metadata": {},
   "outputs": [
    {
     "data": {
      "text/plain": [
       "array([1., 0., 2.])"
      ]
     },
     "execution_count": 6,
     "metadata": {},
     "output_type": "execute_result"
    }
   ],
   "source": [
    "test = np.array([1,4,0,2,3,8,9,7], float)\n",
    "condition = test < 3\n",
    "test[condition]"
   ]
  },
  {
   "cell_type": "markdown",
   "id": "762d7317",
   "metadata": {},
   "source": [
    "### fancy index"
   ]
  },
  {
   "cell_type": "code",
   "execution_count": 7,
   "id": "43a4be64",
   "metadata": {},
   "outputs": [
    {
     "data": {
      "text/plain": [
       "array([2., 2., 4., 8., 6., 4.])"
      ]
     },
     "execution_count": 7,
     "metadata": {},
     "output_type": "execute_result"
    }
   ],
   "source": [
    "a = np.array([2,4,6,8], float)\n",
    "indexes = np.array([0,0,1,3,2,1], int) # index이므로 반드시 int 타입!\n",
    "a[indexes]"
   ]
  },
  {
   "cell_type": "code",
   "execution_count": null,
   "id": "edd52316",
   "metadata": {},
   "outputs": [],
   "source": []
  }
 ],
 "metadata": {
  "kernelspec": {
   "display_name": "Python 3 (ipykernel)",
   "language": "python",
   "name": "python3"
  },
  "language_info": {
   "codemirror_mode": {
    "name": "ipython",
    "version": 3
   },
   "file_extension": ".py",
   "mimetype": "text/x-python",
   "name": "python",
   "nbconvert_exporter": "python",
   "pygments_lexer": "ipython3",
   "version": "3.11.7"
  }
 },
 "nbformat": 4,
 "nbformat_minor": 5
}
